{
 "cells": [
  {
   "cell_type": "markdown",
   "id": "76d19cab-55cf-43e7-afef-be9dee23b7e1",
   "metadata": {},
   "source": [
    "<div style=\"text-align: center;\"><h1><strong>BIOINFORMATICS SECTION A</strong></h1></div> "
   ]
  },
  {
   "cell_type": "markdown",
   "id": "43eb0c4a-d6ff-4b58-8590-3fe1c9a0ffbe",
   "metadata": {},
   "source": [
    "<div style=\"text-align: center;\"><em><strong><h2>ASSIGNMENT # 1</h2></strong></em></div>\n"
   ]
  },
  {
   "cell_type": "markdown",
   "id": "03bdd5f9-5df8-47a9-85f4-477457c8c657",
   "metadata": {},
   "source": [
    "<div style=\"text-align: center;\"><h3><strong>ZAHRA ASLAM KHAN (21L-7723)</strong></h3></div>"
   ]
  },
  {
   "cell_type": "markdown",
   "id": "7732b781-eb38-4c39-b1d7-e29938905e7e",
   "metadata": {},
   "source": [
    "<h4><strong>Code Challenge 1: Pattern Finding</h4><strong>"
   ]
  },
  {
   "cell_type": "code",
   "execution_count": 8,
   "id": "e1640163-ecf2-4380-97d7-dbf11ea0e6cf",
   "metadata": {},
   "outputs": [
    {
     "name": "stdin",
     "output_type": "stream",
     "text": [
      "Enter the text:  AAGGTGACGTGCCTG\n",
      "Enter the pattern:  TG\n"
     ]
    },
    {
     "name": "stdout",
     "output_type": "stream",
     "text": [
      "Number of Occurence of Pattern :  3\n"
     ]
    }
   ],
   "source": [
    "def pattern_count(text: str, pattern: str) -> int:\n",
    "    return text.count(pattern)\n",
    "\n",
    "text = input(\"Enter the text: \")\n",
    "pattern = input(\"Enter the pattern: \")\n",
    "\n",
    "print(\"Number of Occurence of Pattern : \",pattern_count(text, pattern))"
   ]
  },
  {
   "cell_type": "markdown",
   "id": "fca232d9-4931-410e-82b6-cd8cac45a3a4",
   "metadata": {},
   "source": [
    "<h4><strong>Code Challenge 2: Frequent Words Problem</h4><strong>"
   ]
  },
  {
   "cell_type": "code",
   "execution_count": 29,
   "id": "dd773386-c551-40b3-89a7-503c0410bc1c",
   "metadata": {},
   "outputs": [
    {
     "name": "stdin",
     "output_type": "stream",
     "text": [
      "Enter the text:  ATGCGTGCAATGCGTGCAATGCGTGCAATGCGTGCA\n",
      "Enter the value of k:  3\n"
     ]
    },
    {
     "name": "stdout",
     "output_type": "stream",
     "text": [
      "K-mer Counts: {'ATG': 4, 'TGC': 8, 'GCG': 4, 'CGT': 4, 'GTG': 4, 'GCA': 4, 'CAA': 3, 'AAT': 3}\n",
      "Most Frequent K-mers: TGC\n"
     ]
    }
   ],
   "source": [
    "def frequent_words(text: str, k: int) -> list[str]:\n",
    "    \n",
    "    counts = {}\n",
    "   \n",
    "    for i in range(len(text) - k + 1):\n",
    "        kmer = text[i:i + k]\n",
    "        counts[kmer] = counts.get(kmer, 0) + 1\n",
    "\n",
    "    max_count = max(counts.values())\n",
    "\n",
    "    print(\"K-mer Counts:\", counts)\n",
    "    \n",
    "    return [kmer for kmer, count in counts.items() if count == max_count]\n",
    "\n",
    "text = input(\"Enter the text: \")\n",
    "k = int(input(\"Enter the value of k: \"))\n",
    "\n",
    "\n",
    "print(\"Most Frequent K-mers:\", \" \".join(frequent_words(text, k)))\n"
   ]
  },
  {
   "cell_type": "markdown",
   "id": "cd9d9797-abfb-4367-b98b-f7d0b441c539",
   "metadata": {},
   "source": [
    "<h4 style=\"font-weight: bold;\">Code Challenge 3 : Minimum Skew Problem</h4>"
   ]
  },
  {
   "cell_type": "code",
   "execution_count": null,
   "id": "dd8a47e9-7503-4a3d-a9e7-fe97abe62f53",
   "metadata": {},
   "outputs": [],
   "source": [
    "def minimum_skew(genome: str) -> list[int]:\n",
    "    skew = [0]  \n",
    "    min_skew_positions = []\n",
    "    min_value = 0  \n",
    "\n",
    "    for i, nucleotide in enumerate(genome):\n",
    "        if nucleotide == 'C':\n",
    "            skew.append(skew[-1] - 1)\n",
    "        elif nucleotide == 'G':\n",
    "            skew.append(skew[-1] + 1)\n",
    "        else:\n",
    "            skew.append(skew[-1])\n",
    "\n",
    "    min_value = min(skew) \n",
    "    \n",
    "\n",
    "    min_skew_positions = [i for i, value in enumerate(skew) if value == min_value]\n",
    "    \n",
    "    return min_skew_positions\n",
    "\n",
    "\n",
    "if __name__ == \"__main__\":\n",
    "    sequence = input(\"Enter the DNA sequence: \").strip()\n",
    "    print(minimum_skew(sequence))\n"
   ]
  },
  {
   "cell_type": "markdown",
   "id": "ba5dc4e6-fc4b-470c-918c-3f1b631228c4",
   "metadata": {},
   "source": [
    "<h4 style=\"font-weight: bold;\">Code Challenge 4 : Frequent Words Problem With Mismatches</h4>"
   ]
  },
  {
   "cell_type": "code",
   "execution_count": 32,
   "id": "8d3dd596-1587-4223-b18a-ece189ec5410",
   "metadata": {},
   "outputs": [
    {
     "name": "stdin",
     "output_type": "stream",
     "text": [
      "Enter the genomic sequence:  ACGTTGCATGTCGCATGATGCATGAGAGCT\n",
      "Enter the length of k-mer:  4\n",
      "Enter the maximum number of mismatches:  1\n"
     ]
    },
    {
     "name": "stdout",
     "output_type": "stream",
     "text": [
      "Most frequent k-mers with up to 1 mismatches: ATGT GATG ATGC\n"
     ]
    }
   ],
   "source": [
    "from collections import defaultdict\n",
    "\n",
    "def hamming_distance(str1: str, str2: str) -> int:\n",
    "    return sum(1 for a, b in zip(str1, str2) if a != b)\n",
    "\n",
    "def approx_match(kmer: str, substring: str, d: int) -> bool:\n",
    "    return hamming_distance(kmer, substring) <= d\n",
    "\n",
    "def frequent_words_with_mismatches(text: str, k: int, d: int) -> list[str]:\n",
    "    counts = defaultdict(int)\n",
    "    \n",
    "    for i in range(len(text) - k + 1):\n",
    "        kmer = text[i:i + k]\n",
    "        counts[kmer] += 1\n",
    "    \n",
    "    updated_counts = defaultdict(int)\n",
    "    \n",
    "    for a in counts:\n",
    "        for b in counts:\n",
    "            if approx_match(a, b, d):\n",
    "                updated_counts[a] += counts[b]\n",
    "    \n",
    "    max_count = max(updated_counts.values())\n",
    "    return [kmer for kmer, count in updated_counts.items() if count == max_count]\n",
    "\n",
    "if __name__ == \"__main__\":\n",
    "    sequence = input(\"Enter the genomic sequence: \").strip().upper()\n",
    "    k = int(input(\"Enter the length of k-mer: \"))\n",
    "    d = int(input(\"Enter the maximum number of mismatches: \"))\n",
    "    \n",
    "    result = frequent_words_with_mismatches(sequence, k, d)\n",
    "    print(\"Most frequent k-mers with up to\", d, \"mismatches:\", \" \".join(result))\n"
   ]
  },
  {
   "cell_type": "markdown",
   "id": "1cfc2ec1-ddee-4c9b-9ab9-0580fdb22f25",
   "metadata": {},
   "source": [
    "<h4><strong>Final Challenge: Finding a DnaA box in Salmonella enterica</h4><strong>"
   ]
  },
  {
   "cell_type": "code",
   "execution_count": 2,
   "id": "318e56b7-e502-402b-bc56-328a1d738e77",
   "metadata": {},
   "outputs": [
    {
     "name": "stdout",
     "output_type": "stream",
     "text": [
      "Most frequent DnaA box: TTATCCACA\n"
     ]
    },
    {
     "data": {
      "text/plain": [
       "'TTATCCACA'"
      ]
     },
     "execution_count": 2,
     "metadata": {},
     "output_type": "execute_result"
    }
   ],
   "source": [
    "from collections import Counter\n",
    "\n",
    "# Reverse complement function\n",
    "def reverse_complement(genome):\n",
    "    complement = {'a': 'T', 'c': 'G', 'g': 'C', 't': 'A'}\n",
    "    genome = genome.casefold()\n",
    "    new_genome = ''.join(complement[base] for base in genome)\n",
    "    return new_genome[::-1]\n",
    "\n",
    "# Hamming distance function\n",
    "def hamming_distance(seq1, seq2):\n",
    "    return sum(1 for a, b in zip(seq1, seq2) if a != b)\n",
    "\n",
    "# Skew minima function\n",
    "def skew_minima(genome):\n",
    "    skew = 0\n",
    "    skew_dict = {0: 0}\n",
    "    minima = []\n",
    "    for i in range(len(genome)):\n",
    "        if genome[i] == 'C':  # Decrease skew for 'C'\n",
    "            skew -= 1\n",
    "        elif genome[i] == 'G':  # Increase skew for 'G'\n",
    "            skew += 1\n",
    "        skew_dict[i + 1] = skew  # Record the skew at the next position\n",
    "    \n",
    "    minimum_skew = min(skew_dict.values())\n",
    "    for j in skew_dict:\n",
    "        if skew_dict[j] == minimum_skew:\n",
    "            minima.append(j)\n",
    "    return minima\n",
    "\n",
    "# Find DnaA box function\n",
    "def find_dnaA_box(genome, d=1, k=9, dnaA_box=\"TTATCCACA\"):\n",
    "    # Step 1: Find skew minima (potential replication origin region)\n",
    "    minima_positions = skew_minima(genome)\n",
    "    if not minima_positions:\n",
    "        print(\"No skew minima found.\")\n",
    "        return\n",
    "\n",
    "    # Step 2: Define region to look for DnaA boxes (±250 around skew minima)\n",
    "    start_position = min(minima_positions) - 250\n",
    "    end_position = max(minima_positions) + 249\n",
    "    region = genome[start_position:end_position]\n",
    "\n",
    "    # Step 3: Find all 9-mers in the region\n",
    "    kmer_list = []\n",
    "    for i in range(len(region) - k + 1):\n",
    "        kmer = region[i:i+k]\n",
    "        kmer_list.append(kmer)\n",
    "        rev_kmer = reverse_complement(kmer)  # Reverse complement\n",
    "        kmer_list.append(rev_kmer)\n",
    "    \n",
    "    # Step 4: Check for DnaA box sequences with Hamming distance\n",
    "    matching_kmers = []\n",
    "    for kmer in kmer_list:\n",
    "        if hamming_distance(kmer, dnaA_box) <= d:\n",
    "            matching_kmers.append(kmer)\n",
    "    \n",
    "    # Step 5: Count and return the most frequent matching k-mer\n",
    "    counts = Counter(matching_kmers)\n",
    "    most_frequent_kmer = max(counts, key=counts.get)\n",
    "    print(\"Most frequent DnaA box:\", most_frequent_kmer)\n",
    "    return most_frequent_kmer\n",
    "\n",
    "# Read the genome from the file\n",
    "def read_genome(file_path):\n",
    "    with open(file_path, 'r') as f:\n",
    "        genome = f.read().replace(\"\\n\", \"\")  # Read and remove newlines\n",
    "    return genome\n",
    "\n",
    "# Example usage\n",
    "salmonella_genome = read_genome('Salmonella_enterica.txt')\n",
    "\n",
    "# Find the DnaA box in the genome\n",
    "find_dnaA_box(salmonella_genome)\n"
   ]
  }
 ],
 "metadata": {
  "kernelspec": {
   "display_name": "Python 3 (ipykernel)",
   "language": "python",
   "name": "python3"
  },
  "language_info": {
   "codemirror_mode": {
    "name": "ipython",
    "version": 3
   },
   "file_extension": ".py",
   "mimetype": "text/x-python",
   "name": "python",
   "nbconvert_exporter": "python",
   "pygments_lexer": "ipython3",
   "version": "3.10.0"
  }
 },
 "nbformat": 4,
 "nbformat_minor": 5
}
